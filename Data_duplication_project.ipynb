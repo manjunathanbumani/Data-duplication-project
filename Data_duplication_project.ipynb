{
 "cells": [
  {
   "cell_type": "code",
   "execution_count": 1,
   "id": "a09f5ea6-98e6-4d00-869a-33c8a241622a",
   "metadata": {},
   "outputs": [],
   "source": [
    "import pandas as pd\n",
    "import numpy as np\n",
    "import os\n",
    "import time\n",
    "\n",
    "from sklearn.metrics import f1_score, accuracy_score\n",
    "import matplotlib.pyplot as plt"
   ]
  },
  {
   "cell_type": "code",
   "execution_count": 2,
   "id": "0b33396e-61f6-4878-95bf-f5e44365490e",
   "metadata": {},
   "outputs": [
    {
     "data": {
      "text/plain": [
       "<Axes: xlabel='is_duplicate'>"
      ]
     },
     "execution_count": 2,
     "metadata": {},
     "output_type": "execute_result"
    },
    {
     "data": {
      "image/png": "[encoded data removed]",
      "text/plain": [
       "<Figure size 640x480 with 1 Axes>"
      ]
     },
     "metadata": {},
     "output_type": "display_data"
    }
   ],
   "source": [
    "data = pd.read_csv('Input.csv')\n",
    "data['is_duplicate'].value_counts().plot(kind='bar')"
   ]
  },
  {
   "cell_type": "code",
   "execution_count": 3,
   "id": "407e428c-1332-4ba2-9b01-014732743a39",
   "metadata": {},
   "outputs": [],
   "source": [
    "data['name'] = data.fn + ' ' + data.ln"
   ]
  },
  {
   "cell_type": "code",
   "execution_count": 4,
   "id": "d24028de-cb8d-43e3-9d69-5794333839e0",
   "metadata": {},
   "outputs": [
    {
     "data": {
      "text/html": [
       "<div>\n",
       "<style scoped>\n",
       "    .dataframe tbody tr th:only-of-type {\n",
       "        vertical-align: middle;\n",
       "    }\n",
       "\n",
       "    .dataframe tbody tr th {\n",
       "        vertical-align: top;\n",
       "    }\n",
       "\n",
       "    .dataframe thead th {\n",
       "        text-align: right;\n",
       "    }\n",
       "</style>\n",
       "<table border=\"1\" class=\"dataframe\">\n",
       "  <thead>\n",
       "    <tr style=\"text-align: right;\">\n",
       "      <th></th>\n",
       "      <th>ln</th>\n",
       "      <th>dob</th>\n",
       "      <th>gn</th>\n",
       "      <th>fn</th>\n",
       "      <th>is_duplicate</th>\n",
       "      <th>name</th>\n",
       "      <th>concat</th>\n",
       "      <th>hash</th>\n",
       "    </tr>\n",
       "  </thead>\n",
       "  <tbody>\n",
       "    <tr>\n",
       "      <th>0</th>\n",
       "      <td>SMITH JR</td>\n",
       "      <td>01-03-1968</td>\n",
       "      <td>F</td>\n",
       "      <td>WILLIAM</td>\n",
       "      <td>0</td>\n",
       "      <td>WILLIAM SMITH JR</td>\n",
       "      <td>01-03-1968FWILLIAMSMITH JR</td>\n",
       "      <td>b'6ooGhLMJb3lvX1et0d6Hvg=='</td>\n",
       "    </tr>\n",
       "    <tr>\n",
       "      <th>1</th>\n",
       "      <td>ROTHMEYER JR</td>\n",
       "      <td>01-03-1968</td>\n",
       "      <td>F</td>\n",
       "      <td>WILLIAM</td>\n",
       "      <td>0</td>\n",
       "      <td>WILLIAM ROTHMEYER JR</td>\n",
       "      <td>01-03-1968FWILLIAMROTHMEYER JR</td>\n",
       "      <td>b'5pksX5+lgv0GB35eNhpaYQ=='</td>\n",
       "    </tr>\n",
       "    <tr>\n",
       "      <th>2</th>\n",
       "      <td>BLAND III</td>\n",
       "      <td>21-02-1962</td>\n",
       "      <td>F</td>\n",
       "      <td>WILLIAM</td>\n",
       "      <td>1</td>\n",
       "      <td>WILLIAM BLAND III</td>\n",
       "      <td>21-02-1962FWILLIAMBLAND III</td>\n",
       "      <td>b'jazU8UoLH1tGMyuJ4eiGRg=='</td>\n",
       "    </tr>\n",
       "    <tr>\n",
       "      <th>3</th>\n",
       "      <td>BLAND JR</td>\n",
       "      <td>21-02-1962</td>\n",
       "      <td>F</td>\n",
       "      <td>BILL</td>\n",
       "      <td>0</td>\n",
       "      <td>BILL BLAND JR</td>\n",
       "      <td>21-02-1962FBILLBLAND JR</td>\n",
       "      <td>b'ZYaNELI/NJydwZK0f/EZ4g=='</td>\n",
       "    </tr>\n",
       "    <tr>\n",
       "      <th>4</th>\n",
       "      <td>BLAND</td>\n",
       "      <td>21-02-1962</td>\n",
       "      <td>F</td>\n",
       "      <td>WILLIAM</td>\n",
       "      <td>1</td>\n",
       "      <td>WILLIAM BLAND</td>\n",
       "      <td>21-02-1962FWILLIAMBLAND</td>\n",
       "      <td>b'yNF/iTxUfynEC6rF8UyOPw=='</td>\n",
       "    </tr>\n",
       "  </tbody>\n",
       "</table>\n",
       "</div>"
      ],
      "text/plain": [
       "             ln         dob gn       fn  is_duplicate                  name  \\\n",
       "0      SMITH JR  01-03-1968  F  WILLIAM             0      WILLIAM SMITH JR   \n",
       "1  ROTHMEYER JR  01-03-1968  F  WILLIAM             0  WILLIAM ROTHMEYER JR   \n",
       "2     BLAND III  21-02-1962  F  WILLIAM             1     WILLIAM BLAND III   \n",
       "3      BLAND JR  21-02-1962  F     BILL             0         BILL BLAND JR   \n",
       "4         BLAND  21-02-1962  F  WILLIAM             1         WILLIAM BLAND   \n",
       "\n",
       "                           concat                         hash  \n",
       "0      01-03-1968FWILLIAMSMITH JR  b'6ooGhLMJb3lvX1et0d6Hvg=='  \n",
       "1  01-03-1968FWILLIAMROTHMEYER JR  b'5pksX5+lgv0GB35eNhpaYQ=='  \n",
       "2     21-02-1962FWILLIAMBLAND III  b'jazU8UoLH1tGMyuJ4eiGRg=='  \n",
       "3         21-02-1962FBILLBLAND JR  b'ZYaNELI/NJydwZK0f/EZ4g=='  \n",
       "4         21-02-1962FWILLIAMBLAND  b'yNF/iTxUfynEC6rF8UyOPw=='  "
      ]
     },
     "execution_count": 4,
     "metadata": {},
     "output_type": "execute_result"
    }
   ],
   "source": [
    "import hashlib\n",
    "import base64\n",
    "data = data.assign(concat  = data.dob.astype(str) + data.gn + data.fn + data.ln)\n",
    "data['hash']=data['concat'].astype(str).str.encode('UTF-8').apply(lambda x: base64.b64encode(hashlib.md5(x).digest()))\n",
    "data\n",
    "#data2=data\n",
    "data.head()"
   ]
  },
  {
   "cell_type": "code",
   "execution_count": 5,
   "id": "5a3a6d12-0cfc-4dce-8e9c-3aa6aef5f4b4",
   "metadata": {},
   "outputs": [],
   "source": [
    "#### A list of unique dates of birth and unique genders is obtained.\n",
    "\n",
    "unique_dob = data.dob.unique()\n",
    "unique_sex = data.gn.unique()\n",
    "unique_hash = data.hash.unique()"
   ]
  },
  {
   "cell_type": "code",
   "execution_count": 6,
   "id": "acead60d-26ff-4146-b079-5612672d4633",
   "metadata": {},
   "outputs": [
    {
     "name": "stdout",
     "output_type": "stream",
     "text": [
      "Collecting Distance\n",
      "  Downloading Distance-0.1.3.tar.gz (180 kB)\n",
      "  Preparing metadata (setup.py): started\n",
      "  Preparing metadata (setup.py): finished with status 'done'\n",
      "Building wheels for collected packages: Distance\n",
      "  Building wheel for Distance (setup.py): started\n",
      "  Building wheel for Distance (setup.py): finished with status 'done'\n",
      "  Created wheel for Distance: filename=Distance-0.1.3-py3-none-any.whl size=16281 sha256=8756b6708d66562077397f9e7d4a032d2ba73ea405f68bd048264b86357882b6\n",
      "  Stored in directory: c:\\users\\lenovo\\appdata\\local\\pip\\cache\\wheels\\e2\\5c\\da\\74b1353d54468703298f99740b79686e9314fe7384e0f97f56\n",
      "Successfully built Distance\n",
      "Installing collected packages: Distance\n",
      "Successfully installed Distance-0.1.3\n",
      "Note: you may need to restart the kernel to use updated packages.\n"
     ]
    },
    {
     "name": "stderr",
     "output_type": "stream",
     "text": [
      "  DEPRECATION: Building 'Distance' using the legacy setup.py bdist_wheel mechanism, which will be removed in a future version. pip 25.3 will enforce this behaviour change. A possible replacement is to use the standardized build interface by setting the `--use-pep517` option, (possibly combined with `--no-build-isolation`), or adding a `pyproject.toml` file to the source tree of 'Distance'. Discussion can be found at https://github.com/pypa/pip/issues/6334\n"
     ]
    }
   ],
   "source": [
    "pip install Distance\n"
   ]
  },
  {
   "cell_type": "code",
   "execution_count": 7,
   "id": "d61d8fa6-c7c0-47df-8e44-812070d66e3a",
   "metadata": {},
   "outputs": [],
   "source": [
    "import distance"
   ]
  },
  {
   "cell_type": "code",
   "execution_count": 8,
   "id": "306f4687-b517-4608-85d9-c53077c21fd5",
   "metadata": {},
   "outputs": [],
   "source": [
    "import time\n",
    "start_h = time.time()\n",
    "def deduplication_model(data, scoring_range = 10, step = 2):\n",
    "    data['indices'] = list(range(len(data)))\n",
    "    accuracy = []\n",
    "    index = []\n",
    "    final_step = 0\n",
    "    for value in range(scoring_range):\n",
    "        for i in unique_hash:\n",
    "                sample = data[(data.hash == i)].reset_index(drop = True)\n",
    "                for a in range(len(sample)):\n",
    "                    comparison = sample[(sample.indices != sample.indices[a])].reset_index(drop = True)\n",
    "                    scores = [distance.levenshtein(sample.name[a], comparison.name[x]) for x in range(len(comparison))]\n",
    "                    compare = [comparison.indices[x] for x in range(len(comparison))]\n",
    "                    try:\n",
    "                        if sample.indices[a]>compare[scores.index(min(scores))]:\n",
    "                            score = np.min(scores)\n",
    "                            if score<=value:\n",
    "                                index.append(sample.indices[a])\n",
    "                    except ValueError:\n",
    "                        pass\n",
    "        prediction = []\n",
    "        for k in range(len(data)):\n",
    "            if data.indices[k] in index:\n",
    "                prediction.append(1)\n",
    "            else:\n",
    "                prediction.append(0)\n",
    "\n",
    "        data['prediction'] = prediction\n",
    "        print('F1-score after ',value, 'iterations : ', f1_score(data.is_duplicate, data.prediction, average = 'macro'))\n",
    "        accuracy.append(f1_score(data.is_duplicate, data.prediction, average = 'macro'))\n",
    "        if len(accuracy)>1 and accuracy[-1] <= accuracy[-2]:\n",
    "            final_step+=1\n",
    "        if final_step>=step:    \n",
    "            value = value-final_step\n",
    "            break\n",
    "    \n",
    "    index = []\n",
    "    for i in unique_hash:\n",
    "            sample = data[(data.hash == i)].reset_index(drop = True)\n",
    "            for a in range(len(sample)):\n",
    "                comparison = sample[(sample.indices != sample.indices[a])].reset_index(drop = True)\n",
    "                scores = [distance.levenshtein(sample.name[a], comparison.name[x]) for x in range(len(comparison))]\n",
    "                compare = [comparison.indices[x] for x in range(len(comparison))]\n",
    "                try:\n",
    "                    if sample.indices[a]>compare[scores.index(min(scores))]:\n",
    "                        score = np.min(scores)\n",
    "                        if score<=value:\n",
    "                            index.append(sample.indices[a])\n",
    "                except ValueError:\n",
    "                    pass\n",
    "    prediction = []\n",
    "    for k in range(len(data)):\n",
    "        if data.indices[k] in index:\n",
    "            prediction.append(1)\n",
    "        else:\n",
    "            prediction.append(0)\n",
    "    return prediction, value"
   ]
  },
  {
   "cell_type": "code",
   "execution_count": 9,
   "id": "94def7ee-9e27-477d-a939-258a0d5a05ce",
   "metadata": {},
   "outputs": [
    {
     "name": "stdout",
     "output_type": "stream",
     "text": [
      "F1-score after  0 iterations :  0.6611481975967957\n",
      "F1-score after  1 iterations :  0.6611481975967957\n",
      "F1-score after  2 iterations :  0.6611481975967957\n",
      "F1-score after  3 iterations :  0.6611481975967957\n"
     ]
    }
   ],
   "source": [
    "from sklearn.model_selection import train_test_split\n",
    "train, test = train_test_split(data, test_size = 0.05, stratify = data.is_duplicate, random_state = 0)\n",
    "train = train.reset_index(drop = True)\n",
    "test = test.reset_index(drop = True)\n",
    "performance, levenshtein_value_optimum = deduplication_model(train, scoring_range = 10, step = 3)"
   ]
  },
  {
   "cell_type": "code",
   "execution_count": 10,
   "id": "a13b286c-0008-4cff-81e6-5f5c132fa509",
   "metadata": {},
   "outputs": [],
   "source": [
    "def deduplication_prediction(data, optimum_value):\n",
    "    data['indices'] = list(range(len(data)))\n",
    "    index = []\n",
    "    for i in unique_hash:\n",
    "            sample = data[(data.hash == i)].reset_index(drop = True)\n",
    "            for a in range(len(sample)):\n",
    "                comparison = sample[(sample.indices != sample.indices[a])].reset_index(drop = True)\n",
    "                scores = [distance.levenshtein(sample.name[a], comparison.name[x]) for x in range(len(comparison))]\n",
    "                compare = [comparison.indices[x] for x in range(len(comparison))]\n",
    "                try:\n",
    "                    if sample.indices[a]>compare[scores.index(min(scores))]:\n",
    "                        score = np.min(scores)\n",
    "                        if score<=optimum_value:\n",
    "                            index.append(sample.indices[a])\n",
    "                except ValueError:\n",
    "                    pass\n",
    "    prediction = []\n",
    "    for k in range(len(data)):\n",
    "        if data.indices[k] in index:\n",
    "            prediction.append(1)\n",
    "        else:\n",
    "            prediction.append(0)\n",
    "    return prediction"
   ]
  },
  {
   "cell_type": "code",
   "execution_count": 11,
   "id": "3d6e4d5d-ed6f-4a19-869a-d9bba274fa7f",
   "metadata": {},
   "outputs": [],
   "source": [
    "predictions = deduplication_prediction(test, levenshtein_value_optimum)\n"
   ]
  },
  {
   "cell_type": "code",
   "execution_count": 12,
   "id": "337e1f5e-c116-4d48-835d-aa1c07df8459",
   "metadata": {},
   "outputs": [
    {
     "name": "stdout",
     "output_type": "stream",
     "text": [
      "F1-score on test set: 0.625\n"
     ]
    }
   ],
   "source": [
    "print('F1-score on test set:',accuracy_score(test.is_duplicate, predictions))\n"
   ]
  },
  {
   "cell_type": "code",
   "execution_count": 13,
   "id": "a31e636f-6896-4d74-9256-56717d682864",
   "metadata": {},
   "outputs": [],
   "source": [
    "train['prediction'] = performance\n",
    "test['prediction'] = predictions\n",
    "dataset = pd.concat([train, test], axis = 0)\n",
    "dataset = dataset[(dataset.prediction != 1)].reset_index(drop = True).drop(labels = ['name', 'is_duplicate', 'prediction', 'indices'], axis = 1)"
   ]
  },
  {
   "cell_type": "code",
   "execution_count": 14,
   "id": "bbc5b14b-a7e1-4a8e-9a50-d96571b07904",
   "metadata": {},
   "outputs": [
    {
     "name": "stdout",
     "output_type": "stream",
     "text": [
      "Time taken: \n"
     ]
    },
    {
     "data": {
      "text/plain": [
       "83.83699679374695"
      ]
     },
     "execution_count": 14,
     "metadata": {},
     "output_type": "execute_result"
    }
   ],
   "source": [
    "dataset.to_csv('Output_given.csv', index = False)\n",
    "end_h = time.time()\n",
    "tt2 = end_h - start_h\n",
    "print('Time taken: ')\n",
    "tt2"
   ]
  },
  {
   "cell_type": "code",
   "execution_count": 15,
   "id": "a5a2f9a7-d9ae-46be-a985-505a85b102fb",
   "metadata": {},
   "outputs": [
    {
     "data": {
      "text/html": [
       "<div>\n",
       "<style scoped>\n",
       "    .dataframe tbody tr th:only-of-type {\n",
       "        vertical-align: middle;\n",
       "    }\n",
       "\n",
       "    .dataframe tbody tr th {\n",
       "        vertical-align: top;\n",
       "    }\n",
       "\n",
       "    .dataframe thead th {\n",
       "        text-align: right;\n",
       "    }\n",
       "</style>\n",
       "<table border=\"1\" class=\"dataframe\">\n",
       "  <thead>\n",
       "    <tr style=\"text-align: right;\">\n",
       "      <th></th>\n",
       "      <th>ln</th>\n",
       "      <th>dob</th>\n",
       "      <th>gn</th>\n",
       "      <th>fn</th>\n",
       "      <th>concat</th>\n",
       "      <th>hash</th>\n",
       "    </tr>\n",
       "  </thead>\n",
       "  <tbody>\n",
       "    <tr>\n",
       "      <th>0</th>\n",
       "      <td>GRIFFIN JR</td>\n",
       "      <td>07-05-1937</td>\n",
       "      <td>M</td>\n",
       "      <td>DARL</td>\n",
       "      <td>07-05-1937MDARLGRIFFIN JR</td>\n",
       "      <td>b'ADaHZJLqSAKFdPRFPsuybg=='</td>\n",
       "    </tr>\n",
       "    <tr>\n",
       "      <th>1</th>\n",
       "      <td>SHAILEE</td>\n",
       "      <td>09-02-1945</td>\n",
       "      <td>F</td>\n",
       "      <td>PATEL</td>\n",
       "      <td>09-02-1945FPATELSHAILEE</td>\n",
       "      <td>b'lWhlv8HXvuAGdlVBCEDAKQ=='</td>\n",
       "    </tr>\n",
       "    <tr>\n",
       "      <th>2</th>\n",
       "      <td>LARSON JR</td>\n",
       "      <td>09-06-1939</td>\n",
       "      <td>M</td>\n",
       "      <td>HAROLD</td>\n",
       "      <td>09-06-1939MHAROLDLARSON JR</td>\n",
       "      <td>b'PMxfVDvUPlKXwlXje9f+Tg=='</td>\n",
       "    </tr>\n",
       "    <tr>\n",
       "      <th>3</th>\n",
       "      <td>DEEPIKA</td>\n",
       "      <td>25-10-1953</td>\n",
       "      <td>F</td>\n",
       "      <td>PADUKON</td>\n",
       "      <td>25-10-1953FPADUKONDEEPIKA</td>\n",
       "      <td>b'K7lR+f6N3S4fCcd2hERxHA=='</td>\n",
       "    </tr>\n",
       "    <tr>\n",
       "      <th>4</th>\n",
       "      <td>LIND JR</td>\n",
       "      <td>20-01-1946</td>\n",
       "      <td>M</td>\n",
       "      <td>JOHN</td>\n",
       "      <td>20-01-1946MJOHNLIND JR</td>\n",
       "      <td>b'jDTrZWkqUueGy3XUJcRZdA=='</td>\n",
       "    </tr>\n",
       "  </tbody>\n",
       "</table>\n",
       "</div>"
      ],
      "text/plain": [
       "           ln         dob gn       fn                      concat  \\\n",
       "0  GRIFFIN JR  07-05-1937  M     DARL   07-05-1937MDARLGRIFFIN JR   \n",
       "1    SHAILEE   09-02-1945  F    PATEL    09-02-1945FPATELSHAILEE    \n",
       "2   LARSON JR  09-06-1939  M   HAROLD  09-06-1939MHAROLDLARSON JR   \n",
       "3    DEEPIKA   25-10-1953  F  PADUKON  25-10-1953FPADUKONDEEPIKA    \n",
       "4     LIND JR  20-01-1946  M     JOHN      20-01-1946MJOHNLIND JR   \n",
       "\n",
       "                          hash  \n",
       "0  b'ADaHZJLqSAKFdPRFPsuybg=='  \n",
       "1  b'lWhlv8HXvuAGdlVBCEDAKQ=='  \n",
       "2  b'PMxfVDvUPlKXwlXje9f+Tg=='  \n",
       "3  b'K7lR+f6N3S4fCcd2hERxHA=='  \n",
       "4  b'jDTrZWkqUueGy3XUJcRZdA=='  "
      ]
     },
     "execution_count": 15,
     "metadata": {},
     "output_type": "execute_result"
    }
   ],
   "source": [
    "data1 = pd.read_csv('Output_given.csv')\n",
    "data1.head()"
   ]
  },
  {
   "cell_type": "code",
   "execution_count": 16,
   "id": "11df60af-3784-4403-bfa9-6b205e8ded4d",
   "metadata": {},
   "outputs": [
    {
     "data": {
      "text/html": [
       "<div>\n",
       "<style scoped>\n",
       "    .dataframe tbody tr th:only-of-type {\n",
       "        vertical-align: middle;\n",
       "    }\n",
       "\n",
       "    .dataframe tbody tr th {\n",
       "        vertical-align: top;\n",
       "    }\n",
       "\n",
       "    .dataframe thead th {\n",
       "        text-align: right;\n",
       "    }\n",
       "</style>\n",
       "<table border=\"1\" class=\"dataframe\">\n",
       "  <thead>\n",
       "    <tr style=\"text-align: right;\">\n",
       "      <th></th>\n",
       "      <th>ln</th>\n",
       "      <th>dob</th>\n",
       "      <th>gn</th>\n",
       "      <th>fn</th>\n",
       "      <th>concat</th>\n",
       "      <th>hash</th>\n",
       "    </tr>\n",
       "  </thead>\n",
       "  <tbody>\n",
       "    <tr>\n",
       "      <th>0</th>\n",
       "      <td>GRIFFIN JR</td>\n",
       "      <td>07-05-1937</td>\n",
       "      <td>M</td>\n",
       "      <td>DARL</td>\n",
       "      <td>07-05-1937MDARLGRIFFIN JR</td>\n",
       "      <td>b'ADaHZJLqSAKFdPRFPsuybg=='</td>\n",
       "    </tr>\n",
       "    <tr>\n",
       "      <th>1</th>\n",
       "      <td>SHAILEE</td>\n",
       "      <td>09-02-1945</td>\n",
       "      <td>F</td>\n",
       "      <td>PATEL</td>\n",
       "      <td>09-02-1945FPATELSHAILEE</td>\n",
       "      <td>b'lWhlv8HXvuAGdlVBCEDAKQ=='</td>\n",
       "    </tr>\n",
       "    <tr>\n",
       "      <th>2</th>\n",
       "      <td>LARSON JR</td>\n",
       "      <td>09-06-1939</td>\n",
       "      <td>M</td>\n",
       "      <td>HAROLD</td>\n",
       "      <td>09-06-1939MHAROLDLARSON JR</td>\n",
       "      <td>b'PMxfVDvUPlKXwlXje9f+Tg=='</td>\n",
       "    </tr>\n",
       "    <tr>\n",
       "      <th>3</th>\n",
       "      <td>DEEPIKA</td>\n",
       "      <td>25-10-1953</td>\n",
       "      <td>F</td>\n",
       "      <td>PADUKON</td>\n",
       "      <td>25-10-1953FPADUKONDEEPIKA</td>\n",
       "      <td>b'K7lR+f6N3S4fCcd2hERxHA=='</td>\n",
       "    </tr>\n",
       "    <tr>\n",
       "      <th>4</th>\n",
       "      <td>LIND JR</td>\n",
       "      <td>20-01-1946</td>\n",
       "      <td>M</td>\n",
       "      <td>JOHN</td>\n",
       "      <td>20-01-1946MJOHNLIND JR</td>\n",
       "      <td>b'jDTrZWkqUueGy3XUJcRZdA=='</td>\n",
       "    </tr>\n",
       "    <tr>\n",
       "      <th>...</th>\n",
       "      <td>...</td>\n",
       "      <td>...</td>\n",
       "      <td>...</td>\n",
       "      <td>...</td>\n",
       "      <td>...</td>\n",
       "      <td>...</td>\n",
       "    </tr>\n",
       "    <tr>\n",
       "      <th>97</th>\n",
       "      <td>GRIFFIN JR</td>\n",
       "      <td>10-07-1937</td>\n",
       "      <td>M</td>\n",
       "      <td>DARL</td>\n",
       "      <td>10-07-1937MDARLGRIFFIN JR</td>\n",
       "      <td>b'IMALmkqtvKIMgZ6Nf4lNuQ=='</td>\n",
       "    </tr>\n",
       "    <tr>\n",
       "      <th>98</th>\n",
       "      <td>RAJ</td>\n",
       "      <td>10-05-1945</td>\n",
       "      <td>M</td>\n",
       "      <td>SHARMA</td>\n",
       "      <td>10-05-1945MSHARMARAJ</td>\n",
       "      <td>b'tXMD622WenXznG2Pkjf13Q=='</td>\n",
       "    </tr>\n",
       "    <tr>\n",
       "      <th>99</th>\n",
       "      <td>SALTER JR</td>\n",
       "      <td>01-03-1968</td>\n",
       "      <td>F</td>\n",
       "      <td>WILLIAM</td>\n",
       "      <td>01-03-1968FWILLIAMSALTER JR</td>\n",
       "      <td>b'voMlZ1YMCW9iIoTbdexiDw=='</td>\n",
       "    </tr>\n",
       "    <tr>\n",
       "      <th>100</th>\n",
       "      <td>MELVIN JR</td>\n",
       "      <td>07-10-1937</td>\n",
       "      <td>M</td>\n",
       "      <td>HAROLD</td>\n",
       "      <td>07-10-1937MHAROLDMELVIN JR</td>\n",
       "      <td>b'sVz+K3QGYtBMEiOIKJMK7Q=='</td>\n",
       "    </tr>\n",
       "    <tr>\n",
       "      <th>101</th>\n",
       "      <td>BLAND III</td>\n",
       "      <td>21-02-1962</td>\n",
       "      <td>F</td>\n",
       "      <td>WILLIAM</td>\n",
       "      <td>21-02-1962FWILLIAMBLAND III</td>\n",
       "      <td>b'jazU8UoLH1tGMyuJ4eiGRg=='</td>\n",
       "    </tr>\n",
       "  </tbody>\n",
       "</table>\n",
       "<p>102 rows × 6 columns</p>\n",
       "</div>"
      ],
      "text/plain": [
       "             ln         dob gn       fn                       concat  \\\n",
       "0    GRIFFIN JR  07-05-1937  M     DARL    07-05-1937MDARLGRIFFIN JR   \n",
       "1      SHAILEE   09-02-1945  F    PATEL     09-02-1945FPATELSHAILEE    \n",
       "2     LARSON JR  09-06-1939  M   HAROLD   09-06-1939MHAROLDLARSON JR   \n",
       "3      DEEPIKA   25-10-1953  F  PADUKON   25-10-1953FPADUKONDEEPIKA    \n",
       "4       LIND JR  20-01-1946  M     JOHN       20-01-1946MJOHNLIND JR   \n",
       "..          ...         ... ..      ...                          ...   \n",
       "97   GRIFFIN JR  10-07-1937  M     DARL    10-07-1937MDARLGRIFFIN JR   \n",
       "98          RAJ  10-05-1945  M   SHARMA         10-05-1945MSHARMARAJ   \n",
       "99    SALTER JR  01-03-1968  F  WILLIAM  01-03-1968FWILLIAMSALTER JR   \n",
       "100   MELVIN JR  07-10-1937  M   HAROLD   07-10-1937MHAROLDMELVIN JR   \n",
       "101   BLAND III  21-02-1962  F  WILLIAM  21-02-1962FWILLIAMBLAND III   \n",
       "\n",
       "                            hash  \n",
       "0    b'ADaHZJLqSAKFdPRFPsuybg=='  \n",
       "1    b'lWhlv8HXvuAGdlVBCEDAKQ=='  \n",
       "2    b'PMxfVDvUPlKXwlXje9f+Tg=='  \n",
       "3    b'K7lR+f6N3S4fCcd2hERxHA=='  \n",
       "4    b'jDTrZWkqUueGy3XUJcRZdA=='  \n",
       "..                           ...  \n",
       "97   b'IMALmkqtvKIMgZ6Nf4lNuQ=='  \n",
       "98   b'tXMD622WenXznG2Pkjf13Q=='  \n",
       "99   b'voMlZ1YMCW9iIoTbdexiDw=='  \n",
       "100  b'sVz+K3QGYtBMEiOIKJMK7Q=='  \n",
       "101  b'jazU8UoLH1tGMyuJ4eiGRg=='  \n",
       "\n",
       "[102 rows x 6 columns]"
      ]
     },
     "execution_count": 16,
     "metadata": {},
     "output_type": "execute_result"
    }
   ],
   "source": [
    "data1"
   ]
  },
  {
   "cell_type": "code",
   "execution_count": null,
   "id": "377edf34-6d78-4cfd-9320-162b7f9b48ce",
   "metadata": {},
   "outputs": [],
   "source": []
  }
 ],
 "metadata": {
  "kernelspec": {
   "display_name": "Python [conda env:base] *",
   "language": "python",
   "name": "conda-base-py"
  },
  "language_info": {
   "codemirror_mode": {
    "name": "ipython",
    "version": 3
   },
   "file_extension": ".py",
   "mimetype": "text/x-python",
   "name": "python",
   "nbconvert_exporter": "python",
   "pygments_lexer": "ipython3",
   "version": "3.13.5"
  }
 },
 "nbformat": 4,
 "nbformat_minor": 5
}
